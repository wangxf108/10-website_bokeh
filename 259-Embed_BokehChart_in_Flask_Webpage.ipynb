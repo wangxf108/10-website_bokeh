{
 "cells": [
  {
   "cell_type": "code",
   "execution_count": 6,
   "id": "bd31546c",
   "metadata": {
    "scrolled": false
   },
   "outputs": [],
   "source": [
    "from pandas_datareader import data\n",
    "import datetime\n",
    "from bokeh.plotting import figure, show, output_file   \n",
    "from bokeh.embed import components\n",
    "from bokeh.resources import CDN        #content delivery network\n",
    "\n",
    "start=datetime.datetime(2021,1,12)\n",
    "end=datetime.datetime(2021,4,1)\n",
    "\n",
    "df=data.DataReader(name=\"GOOG\",data_source=\"yahoo\",start=start,end=end)\n",
    "\n",
    "def inc_dec(c, o):\n",
    "    if c > o:\n",
    "        value=\"Increase\"\n",
    "    elif c < o:\n",
    "        value=\"Decrease\"\n",
    "    else:\n",
    "        value=\"Equal\"\n",
    "    return value\n",
    "\n",
    "df[\"Status\"]=[inc_dec(c,o) for c, o in zip(df.Close, df.Open)]\n",
    "\n",
    "df[\"Middle\"]=(df.Open+df.Close)/2\n",
    "df[\"Height\"]=abs(df.Close-df.Open)           \n",
    "\n",
    "p=figure(x_axis_type='datetime', width=1000, height=300, sizing_mode=\"scale_width\")          \n",
    "p.title=\"Candlestick Chart\"\n",
    "p.grid.grid_line_alpha=0.3\n",
    "\n",
    "hours_12=12*60*60*1000\n",
    "\n",
    "p.segment(df.index, df.High, df.index, df.Low, color=\"Black\")\n",
    "\n",
    "p.rect(df.index[df.Status==\"Increase\"], df.Middle[df.Status==\"Increase\"],                                       \n",
    "       hours_12, df.Height[df.Status==\"Increase\"], fill_color=\"#008B8B\", line_color=\"black\")\n",
    "\n",
    "p.rect(df.index[df.Status==\"Decrease\"], df.Middle[df.Status==\"Decrease\"],  \n",
    "       hours_12, df.Height[df.Status==\"Decrease\"], fill_color=\"#B22222\", line_color=\"black\")\n",
    "\n",
    "#will get the source code of the chart(Javascript)\n",
    "#components(p)      \n",
    "\n",
    "#javascript代码一共两部分，分成两部分\n",
    "script1, div1 = components(p)\n",
    "\n",
    "cdn_js=CDN.js_files\n",
    "cdn_css=CDN.css_files\n",
    "\n",
    "\n",
    "#output_file(\"CS.html\")           #生成网页版烛台图\n",
    "#show(p)                                    #展示之\n"
   ]
  },
  {
   "cell_type": "code",
   "execution_count": 11,
   "id": "2571bbdc",
   "metadata": {},
   "outputs": [
    {
     "data": {
      "text/plain": [
       "'https://cdn.bokeh.org/bokeh/release/bokeh-2.3.0.min.js'"
      ]
     },
     "execution_count": 11,
     "metadata": {},
     "output_type": "execute_result"
    }
   ],
   "source": [
    "#如果不加[0]，会出现三个链接，此处取第一个\n",
    "cdn_js[0]"
   ]
  },
  {
   "cell_type": "code",
   "execution_count": 9,
   "id": "91040298",
   "metadata": {},
   "outputs": [
    {
     "data": {
      "text/plain": [
       "[]"
      ]
     },
     "execution_count": 9,
     "metadata": {},
     "output_type": "execute_result"
    }
   ],
   "source": [
    "cdn_css"
   ]
  }
 ],
 "metadata": {
  "kernelspec": {
   "display_name": "Python 3",
   "language": "python",
   "name": "python3"
  },
  "language_info": {
   "codemirror_mode": {
    "name": "ipython",
    "version": 3
   },
   "file_extension": ".py",
   "mimetype": "text/x-python",
   "name": "python",
   "nbconvert_exporter": "python",
   "pygments_lexer": "ipython3",
   "version": "3.9.2"
  }
 },
 "nbformat": 4,
 "nbformat_minor": 5
}
