{
 "cells": [
  {
   "cell_type": "code",
   "execution_count": 26,
   "id": "bd31546c",
   "metadata": {
    "scrolled": false
   },
   "outputs": [],
   "source": [
    "from pandas_datareader import data\n",
    "import datetime\n",
    "from bokeh.plotting import figure, show, output_file   \n",
    "\n",
    "start=datetime.datetime(2021,1,12)\n",
    "end=datetime.datetime(2021,4,1)\n",
    "\n",
    "df=data.DataReader(name=\"GOOG\",data_source=\"yahoo\",start=start,end=end)\n",
    "\n",
    "###### Here define a function to devide the increase parts and decrease into two parts\n",
    "###### function increase $ decrease = inc_dec\n",
    "def inc_dec(c, o):\n",
    "    if c > o:\n",
    "        value=\"Increase\"\n",
    "    elif c < o:\n",
    "        value=\"Decrease\"\n",
    "    else:\n",
    "        value=\"Equal\"\n",
    "    return value\n",
    "\n",
    "df[\"Status\"]=[inc_dec(c,o) for c, o in zip(df.Close, df.Open)]\n",
    "\n",
    "df[\"Middle\"]=(df.Open+df.Close)/2\n",
    "df[\"Height\"]=abs(df.Close-df.Open)               #abs： makes sure that you will always get positive value \n",
    "\n",
    "# store the figure object in a p variable figure    \n",
    "# alpha means the level of transparency , 指定图标背景方格线的透明度\n",
    "# sizing_mode=\"scale_width\" 使生成的网页图表，随着网页大小的变化而变化\n",
    "\n",
    "p=figure(x_axis_type='datetime', width=1000, height=300, sizing_mode=\"scale_width\")          \n",
    "p.title=\"Candlestick Chart\"\n",
    "p.grid.grid_line_alpha=0.3\n",
    "\n",
    "hours_12=12*60*60*1000\n",
    "\n",
    "#将股价的线段放在前面，后面的涂层会覆盖线条，使线条隐藏在图块后面。\n",
    "p.segment(df.index, df.High, df.index, df.Low, color=\"Black\")\n",
    "\n",
    "#定义单个方块图的左边位置，纵轴的中点是起始与结束时间的二分之一， 横轴位置以千分之一秒的刻度     \n",
    "p.rect(df.index[df.Status==\"Increase\"], df.Middle[df.Status==\"Increase\"],                                       \n",
    "       hours_12, df.Height[df.Status==\"Increase\"], fill_color=\"#008B8B\", line_color=\"black\")\n",
    "\n",
    "p.rect(df.index[df.Status==\"Decrease\"], df.Middle[df.Status==\"Decrease\"],  \n",
    "       hours_12, df.Height[df.Status==\"Decrease\"], fill_color=\"#B22222\", line_color=\"black\")\n",
    "\n",
    "output_file(\"CS.html\")\n",
    "show(p)\n"
   ]
  },
  {
   "cell_type": "code",
   "execution_count": null,
   "id": "95afdb52",
   "metadata": {},
   "outputs": [],
   "source": []
  },
  {
   "cell_type": "code",
   "execution_count": null,
   "id": "7aa94b7d",
   "metadata": {},
   "outputs": [],
   "source": []
  }
 ],
 "metadata": {
  "kernelspec": {
   "display_name": "Python 3",
   "language": "python",
   "name": "python3"
  },
  "language_info": {
   "codemirror_mode": {
    "name": "ipython",
    "version": 3
   },
   "file_extension": ".py",
   "mimetype": "text/x-python",
   "name": "python",
   "nbconvert_exporter": "python",
   "pygments_lexer": "ipython3",
   "version": "3.9.2"
  }
 },
 "nbformat": 4,
 "nbformat_minor": 5
}
