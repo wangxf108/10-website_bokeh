{
 "cells": [
  {
   "cell_type": "code",
   "execution_count": 3,
   "id": "85a6568e",
   "metadata": {},
   "outputs": [
    {
     "name": "stderr",
     "output_type": "stream",
     "text": [
      "/Users/wangxf108/.pyenv/versions/3.9.2/lib/python3.9/site-packages/pandas/compat/__init__.py:97: UserWarning: Could not import the lzma module. Your installed Python is incomplete. Attempting to use lzma compression will result in a RuntimeError.\n",
      "  warnings.warn(msg)\n"
     ]
    }
   ],
   "source": [
    "from pandas_datareader import data\n",
    "import datetime\n"
   ]
  },
  {
   "cell_type": "code",
   "execution_count": 4,
   "id": "f3179cc8",
   "metadata": {
    "scrolled": true
   },
   "outputs": [
    {
     "data": {
      "text/html": [
       "<div>\n",
       "<style scoped>\n",
       "    .dataframe tbody tr th:only-of-type {\n",
       "        vertical-align: middle;\n",
       "    }\n",
       "\n",
       "    .dataframe tbody tr th {\n",
       "        vertical-align: top;\n",
       "    }\n",
       "\n",
       "    .dataframe thead th {\n",
       "        text-align: right;\n",
       "    }\n",
       "</style>\n",
       "<table border=\"1\" class=\"dataframe\">\n",
       "  <thead>\n",
       "    <tr style=\"text-align: right;\">\n",
       "      <th></th>\n",
       "      <th>High</th>\n",
       "      <th>Low</th>\n",
       "      <th>Open</th>\n",
       "      <th>Close</th>\n",
       "      <th>Volume</th>\n",
       "      <th>Adj Close</th>\n",
       "    </tr>\n",
       "    <tr>\n",
       "      <th>Date</th>\n",
       "      <th></th>\n",
       "      <th></th>\n",
       "      <th></th>\n",
       "      <th></th>\n",
       "      <th></th>\n",
       "      <th></th>\n",
       "    </tr>\n",
       "  </thead>\n",
       "  <tbody>\n",
       "    <tr>\n",
       "      <th>2021-03-11</th>\n",
       "      <td>2125.699951</td>\n",
       "      <td>2072.379883</td>\n",
       "      <td>2074.060059</td>\n",
       "      <td>2114.770020</td>\n",
       "      <td>1238300</td>\n",
       "      <td>2114.770020</td>\n",
       "    </tr>\n",
       "    <tr>\n",
       "      <th>2021-03-12</th>\n",
       "      <td>2090.260010</td>\n",
       "      <td>2047.550049</td>\n",
       "      <td>2085.000000</td>\n",
       "      <td>2061.919922</td>\n",
       "      <td>1725000</td>\n",
       "      <td>2061.919922</td>\n",
       "    </tr>\n",
       "    <tr>\n",
       "      <th>2021-03-15</th>\n",
       "      <td>2067.060059</td>\n",
       "      <td>2043.510010</td>\n",
       "      <td>2062.300049</td>\n",
       "      <td>2066.489990</td>\n",
       "      <td>1298100</td>\n",
       "      <td>2066.489990</td>\n",
       "    </tr>\n",
       "    <tr>\n",
       "      <th>2021-03-16</th>\n",
       "      <td>2123.560059</td>\n",
       "      <td>2070.000000</td>\n",
       "      <td>2078.989990</td>\n",
       "      <td>2092.520020</td>\n",
       "      <td>1490600</td>\n",
       "      <td>2092.520020</td>\n",
       "    </tr>\n",
       "    <tr>\n",
       "      <th>2021-03-17</th>\n",
       "      <td>2109.780029</td>\n",
       "      <td>2054.000000</td>\n",
       "      <td>2076.030029</td>\n",
       "      <td>2091.080078</td>\n",
       "      <td>1297500</td>\n",
       "      <td>2091.080078</td>\n",
       "    </tr>\n",
       "    <tr>\n",
       "      <th>2021-03-18</th>\n",
       "      <td>2075.500000</td>\n",
       "      <td>2033.550049</td>\n",
       "      <td>2061.000000</td>\n",
       "      <td>2036.219971</td>\n",
       "      <td>1361400</td>\n",
       "      <td>2036.219971</td>\n",
       "    </tr>\n",
       "    <tr>\n",
       "      <th>2021-03-19</th>\n",
       "      <td>2053.100098</td>\n",
       "      <td>2017.680054</td>\n",
       "      <td>2042.050049</td>\n",
       "      <td>2043.199951</td>\n",
       "      <td>2314400</td>\n",
       "      <td>2043.199951</td>\n",
       "    </tr>\n",
       "  </tbody>\n",
       "</table>\n",
       "</div>"
      ],
      "text/plain": [
       "                   High          Low         Open        Close   Volume  \\\n",
       "Date                                                                      \n",
       "2021-03-11  2125.699951  2072.379883  2074.060059  2114.770020  1238300   \n",
       "2021-03-12  2090.260010  2047.550049  2085.000000  2061.919922  1725000   \n",
       "2021-03-15  2067.060059  2043.510010  2062.300049  2066.489990  1298100   \n",
       "2021-03-16  2123.560059  2070.000000  2078.989990  2092.520020  1490600   \n",
       "2021-03-17  2109.780029  2054.000000  2076.030029  2091.080078  1297500   \n",
       "2021-03-18  2075.500000  2033.550049  2061.000000  2036.219971  1361400   \n",
       "2021-03-19  2053.100098  2017.680054  2042.050049  2043.199951  2314400   \n",
       "\n",
       "              Adj Close  \n",
       "Date                     \n",
       "2021-03-11  2114.770020  \n",
       "2021-03-12  2061.919922  \n",
       "2021-03-15  2066.489990  \n",
       "2021-03-16  2092.520020  \n",
       "2021-03-17  2091.080078  \n",
       "2021-03-18  2036.219971  \n",
       "2021-03-19  2043.199951  "
      ]
     },
     "execution_count": 4,
     "metadata": {},
     "output_type": "execute_result"
    }
   ],
   "source": [
    "#  Be careful of data and date.\n",
    "start=datetime.datetime(2021,3,12)\n",
    "end=datetime.datetime(2021,3,20)\n",
    "\n",
    "#AAPL is stock symbol of  a company. \n",
    "#Pandas_datareader will produce a data frame and can be stored  in a variabe of  [df]\n",
    "df=data.DataReader(name=\"GOOG\",data_source=\"yahoo\",start=start,end=end)\n",
    "df"
   ]
  },
  {
   "cell_type": "code",
   "execution_count": 5,
   "id": "c0fa9f30",
   "metadata": {
    "scrolled": false
   },
   "outputs": [
    {
     "data": {
      "text/plain": [
       "DatetimeIndex(['2021-03-11', '2021-03-15', '2021-03-16', '2021-03-17',\n",
       "               '2021-03-19'],\n",
       "              dtype='datetime64[ns]', name='Date', freq=None)"
      ]
     },
     "execution_count": 5,
     "metadata": {},
     "output_type": "execute_result"
    }
   ],
   "source": [
    "df.index[df.Close > df.Open]"
   ]
  },
  {
   "cell_type": "code",
   "execution_count": 6,
   "id": "f47c1210",
   "metadata": {},
   "outputs": [
    {
     "ename": "NameError",
     "evalue": "name 'figure' is not defined",
     "output_type": "error",
     "traceback": [
      "\u001b[0;31m---------------------------------------------------------------------------\u001b[0m",
      "\u001b[0;31mNameError\u001b[0m                                 Traceback (most recent call last)",
      "\u001b[0;32m<ipython-input-6-8e8f57e157c8>\u001b[0m in \u001b[0;36m<module>\u001b[0;34m\u001b[0m\n\u001b[0;32m----> 1\u001b[0;31m \u001b[0mp\u001b[0m\u001b[0;34m=\u001b[0m\u001b[0mfigure\u001b[0m\u001b[0;34m(\u001b[0m\u001b[0mx_axis_type\u001b[0m\u001b[0;34m=\u001b[0m\u001b[0;34m'datetime'\u001b[0m\u001b[0;34m,\u001b[0m \u001b[0mwidth\u001b[0m\u001b[0;34m=\u001b[0m\u001b[0;36m1000\u001b[0m\u001b[0;34m,\u001b[0m \u001b[0mheight\u001b[0m\u001b[0;34m=\u001b[0m\u001b[0;36m300\u001b[0m \u001b[0;34m)\u001b[0m\u001b[0;34m\u001b[0m\u001b[0;34m\u001b[0m\u001b[0m\n\u001b[0m\u001b[1;32m      2\u001b[0m \u001b[0mp\u001b[0m\u001b[0;34m.\u001b[0m\u001b[0mtitle\u001b[0m\u001b[0;34m=\u001b[0m\u001b[0;34m\"Candlestick Chart\"\u001b[0m\u001b[0;34m\u001b[0m\u001b[0;34m\u001b[0m\u001b[0m\n\u001b[1;32m      3\u001b[0m \u001b[0;34m\u001b[0m\u001b[0m\n\u001b[1;32m      4\u001b[0m \u001b[0mhours_12\u001b[0m\u001b[0;34m=\u001b[0m\u001b[0;36m12\u001b[0m\u001b[0;34m*\u001b[0m\u001b[0;36m60\u001b[0m\u001b[0;34m*\u001b[0m\u001b[0;36m60\u001b[0m\u001b[0;34m*\u001b[0m\u001b[0;36m1000\u001b[0m\u001b[0;34m\u001b[0m\u001b[0;34m\u001b[0m\u001b[0m\n\u001b[1;32m      5\u001b[0m \u001b[0;34m\u001b[0m\u001b[0m\n",
      "\u001b[0;31mNameError\u001b[0m: name 'figure' is not defined"
     ]
    }
   ],
   "source": [
    "p=figure(x_axis_type='datetime', width=1000, height=300 )\n",
    "p.title=\"Candlestick Chart\"\n",
    "\n",
    "hours_12=12*60*60*1000\n",
    "\n",
    "p.rect(df.indext[df.Close > df.Open], (df.Open+df.Close)/2, hour_12, abs(df.Open-df.Close))\n",
    "p.rect"
   ]
  }
 ],
 "metadata": {
  "kernelspec": {
   "display_name": "Python 3",
   "language": "python",
   "name": "python3"
  },
  "language_info": {
   "codemirror_mode": {
    "name": "ipython",
    "version": 3
   },
   "file_extension": ".py",
   "mimetype": "text/x-python",
   "name": "python",
   "nbconvert_exporter": "python",
   "pygments_lexer": "ipython3",
   "version": "3.9.2"
  }
 },
 "nbformat": 4,
 "nbformat_minor": 5
}
